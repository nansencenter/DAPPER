{
 "cells": [
  {
   "cell_type": "code",
   "execution_count": null,
   "metadata": {
    "scrolled": true
   },
   "outputs": [],
   "source": [
    "from resources.workspace import *\n",
    "from IPython.display import display\n",
    "from scipy.integrate import odeint\n",
    "import copy\n",
    "\n",
    "%matplotlib inline"
   ]
  },
  {
   "cell_type": "markdown",
   "metadata": {},
   "source": [
    "# Dynamics of ensembles and perturbations\n",
    "\n",
    "In the following, we will neglect the important issues of model deficiencies and the inherent stochasticity of certain dynamics.  Instead, we will focus on the simplified scenario where we assume:\n",
    "<ul>\n",
    "    <li> we can perfectly model and compute the purely deterministic dynamics; and</li>\n",
    "    <li> prediction error originates soley from the uncertainty in initial conditions.</li>\n",
    "</ul>\n",
    "\n",
    "Understanding that perturbations rapidly diverge even in a chaotic system as described above, this led to the transition from single-trajectory forecasts to ensemble-based forecasts.   Ensembles are used to \"average out\" our initialization errors, and to understand the variability and uncertainty in forecasts."
   ]
  },
  {
   "cell_type": "markdown",
   "metadata": {},
   "source": [
    "The advantages of ensemble based forecasts over single trajectory forecasts historically led to a search for perturbations that are most representative of the error growth in operational forecasts.  Prediction centers have sought to initialize ensemble-based forecasts in a way to best capture the variability induced by the dynamical chaos.  Two major techniques emerged,\n",
    "<ol>\n",
    "   <li> <a href=\"https://journals.ametsoc.org/doi/abs/10.1175/1520-0477%281993%29074%3C2317%3AEFANTG%3E2.0.CO%3B2\" target=\"blank\">\"<b>bred vectors</b>\"</a>, and </li>\n",
    "   <li> <a href=\"https://onlinelibrary.wiley.com/doi/abs/10.1034/j.1600-0870.1993.t01-4-00005.x\" target=\"https://onlinelibrary.wiley.com/doi/abs/10.1034/j.1600-0870.1993.t01-4-00005.x\"><b>forcing singular vectors</b>\"</a>. </li>\n",
    "</ol>\n",
    "   \n",
    "\n",
    "These lead to different formulations of the classical <a href=\"http://www.lmd.ens.fr/legras/publis/liapunov.pdf\" target=\"blank\"><b>\"Lyapunov vectors\"</b></a>.  We do not stress here what a \"Lyapunov vector\" is, rather we will discover their nature experimentally in the following work.  This will lead to a formal definition of <em>one type</em> of Lyapunov vectors by the end of the exercises."
   ]
  },
  {
   "cell_type": "markdown",
   "metadata": {},
   "source": [
    "### \"Breeding\" growing modes\n",
    "\n",
    "Suppose we have a smooth, nonlinear dynamical system,\n",
    "<h3>\n",
    "$$\n",
    "\\begin{align}\n",
    "\\dot{\\mathbf{x}} = f(\\mathbf{x}) & & \\mathbf{x} \\in \\mathbb{R}^n,\n",
    "\\end{align}\n",
    "$$\n",
    "</h3>\n",
    "and a precise estimate of an initial condition <span style='font-size:1.25em'>$\\mathbf{x}^c_0$</span>, from which we want to make a forecast.  Suppose, also, that there are future observations that we will assimilate."
   ]
  },
  {
   "cell_type": "markdown",
   "metadata": {},
   "source": [
    "It was suggested by Toth and Kalnay to use the evolution of the initial estimate <span style='font-size:1.25em'>$\\mathbf{x}^c_0$</span> as a control trajectory, while introducing small perturbations to generate an ensemble,\n",
    "<h3>\n",
    "$$\\begin{align}\n",
    "\\mathbf{x}^i_0 = \\mathbf{x}^c_0 + \\boldsymbol{\\delta}^i_0 \n",
    "\\end{align}$$\n",
    "</h3>\n",
    "where <span style='font-size:1.25em'>$\\left \\rvert \\boldsymbol{\\delta}^i \\right \\rvert  = \\epsilon \\ll 1$</span>.\n",
    "\n",
    "The ensemble is evolved in parallel to the control trajectory.  Between times $t_{k-1}$ and $t_k$, this takes the form\n",
    "<h3>\n",
    "$$\\begin{align}\n",
    "\\widehat{\\mathbf{x}}^c_k &= \\mathbf{x}_{k-1}^c + \\int_{t_{k-1}}^{t_k} f(x) {\\rm d}t \\\\\n",
    "\\widehat{\\mathbf{x}}^i_k &= \\mathbf{x}_{k-1}^i + \\int_{t_{k-1}}^{t_k} f(x) {\\rm d}t.\n",
    "\\end{align}\n",
    "$$\n",
    "</h3>"
   ]
  },
  {
   "cell_type": "markdown",
   "metadata": {},
   "source": [
    "At the point of analyzing new observations we form a new estimate for the control trajectory, taking <span style='font-size:1.25em'>$\\widehat{\\mathbf{x}}_k^c$</span> to <span style='font-size:1.25em'>$\\mathbf{x}_k^c$</span>. the perturbations are rescaled back to their original small size while maintaining their <em>directions</em>.  That is to say,\n",
    "<h3>\n",
    "$$\n",
    "\\begin{align}\n",
    "\\widehat{\\boldsymbol{\\delta}}_k^i \\triangleq \\mathbf{x}_k^c - \\widehat{\\mathbf{x}}_k^i, & &\n",
    "\\boldsymbol{\\delta}_k^i \\triangleq \\frac{\\epsilon}{\\left\\rvert \\widehat{\\boldsymbol{\\delta}}^i_k\\right\\rvert} \\widehat{\\boldsymbol{\\delta}}^i_k.\n",
    "\\end{align}\n",
    "$$\n",
    "</h3>"
   ]
  },
  {
   "cell_type": "markdown",
   "metadata": {},
   "source": [
    "\"Breeding growing modes\" is designed to simulate how the modes of fast growing error are maintained and propagated through the successive use of short range forecasts.  The resulting perturbations are thus meant to represent a perturbation field of the \"errors of the day\", i.e., uncertainties in the initial condition at the present time that result from the repeated cycle of forecasts and analyses."
   ]
  },
  {
   "cell_type": "markdown",
   "metadata": {},
   "source": [
    "**Exc 4.14**: Run the code below and use the sliders to examine behavior of successive \"breeding\" of growing modes. The parameter <b>B</b> stands for the number of breeding cycles.  The parameter <b>eps</b> stands for the re-scaling parameter <span style='font-size:1.25em'>$\\epsilon$</span> defined above.  The parameter <b>N</b> is the number of perturbations.  \n",
    "\n",
    "The the plots on the left hand side show the evolution of the control trajectory and the perturbed trajectories along each breeding cycle.  The right hand side plots $\\pm 1$ times the normalized perturbations,\n",
    "<h3>\n",
    "$$\n",
    " \\frac{ \\pm\\widehat{\\boldsymbol{\\delta}}_k^i}{\\left\\rvert \\widehat{\\boldsymbol{\\delta}}^i_k\\right\\rvert},\n",
    "$$\n",
    "</h3>\n",
    "giving the <b>directions</b> of the perturbations, plotted as lines through the unit sphere. "
   ]
  },
  {
   "cell_type": "markdown",
   "metadata": {},
   "source": [
    "**Answer the following questions**:\n",
    "<ol>\n",
    "    <li> For small values of <span style='font-size:1.25em'>$\\epsilon$</span>, what is significant about the long term behavior of the directions of the perturbations? </li>\n",
    "    <li> Does this behavior change with large <b>N</b>, i.e., more directions for the pertubations? </li>\n",
    "    <li> How does this behavior change when <span style='font-size:1.25em'>$\\epsilon$</span> is increased?  Do the directions of the perturbations depend on <b>N</b> for large <span style='font-size:1.25em'>$\\epsilon$</span>?\n",
    "</ol>"
   ]
  },
  {
   "cell_type": "code",
   "execution_count": null,
   "metadata": {},
   "outputs": [],
   "source": [
    "SIGMA = 10.0\n",
    "BETA  = 8/3\n",
    "RHO   = 28.0\n",
    "\n",
    "def dxdt(xyz, t0, sigma=SIGMA, beta=BETA, rho=RHO):\n",
    "    \"\"\"Compute the time-derivative of the Lorenz-63 system.\"\"\"\n",
    "    x, y, z = xyz\n",
    "    return array([\n",
    "        sigma * (y - x),\n",
    "        x * (rho - z) - y,\n",
    "        x * y - beta * z\n",
    "    ])\n",
    "\n",
    "def animate_bred_vectors(B=0, eps=0.01, N=10):    \n",
    "    \n",
    "    # Initial conditions: perturbations around some \"proto\" state\n",
    "    sigma=SIGMA \n",
    "    beta=BETA \n",
    "    rho=RHO\n",
    "    T=0.05\n",
    "    \n",
    "    seed(1)\n",
    "    x_0 = array([-6.1, 1.2, 32.5])               # define the control\n",
    "    \n",
    "    # define the perturbations, randomly generated but of fixed norm epsilon\n",
    "    perts = randn([N,3])\n",
    "    perts = array([eps * perts[i] / sqrt(perts[i] @ perts[i]) for i in range(N)])\n",
    "    delta_x = x_0 + perts\n",
    "                  \n",
    "    tt = linspace(0, T, 10)           # Time instances for trajectory\n",
    "    d2 = lambda x,t: dxdt(x,t, sigma,beta,rho)  # Define dxdt(x,t) with fixed params.    \n",
    "    \n",
    "    # for each breeding cycle\n",
    "    for kk in range(B):\n",
    "        # Compute trajectories\n",
    "        x_traj = array([odeint(d2, x_0, tt)])        # integrate the control trajectory\n",
    "        x_0 = np.squeeze(x_traj[:, -1, :])\n",
    "        \n",
    "        delta_x_traj = array([odeint(d2, delta_xi, tt) for delta_xi in delta_x]) # Integrate the perturbations\n",
    "        perts = delta_x_traj[:, -1, :] - x_0                                     # redefine the perts\n",
    "        perts = array([eps * perts[i] / sqrt(perts[i] @ perts[i]) for i in range(N)])\n",
    "        delta_x = x_0 + perts # redefine the initialization of the perturbed trajectories\n",
    "    \n",
    "    # PLOTTING\n",
    "    fig = plt.figure(figsize=(16,8))\n",
    "    ax1 = plt.subplot(121, projection='3d')\n",
    "    ax2 = plt.subplot(122, projection='3d')\n",
    "    \n",
    "    if B==0:\n",
    "        ax1.scatter3D(*x_0, s=40, c='k')\n",
    "\n",
    "    else:\n",
    "        ax1.plot(*x_traj[0,:,:].T, '-', c='k')\n",
    "        ax1.scatter3D(*x_traj[0,-1,:].T, '-', s=40, c='k')\n",
    "            \n",
    "    colors = plt.cm.jet(linspace(0,1,N))\n",
    "    for i in range(N):\n",
    "        # for each breeding cycle\n",
    "        if B==0:\n",
    "            # if just the initial conditions, we plot these\n",
    "            ax1.scatter3D(*delta_x[i,:],s=40,c=colors[i])\n",
    "            \n",
    "        else:\n",
    "            # otherwise, plot the trajectories over a breeding cycle\n",
    "            ax1.plot(*(delta_x_traj[i,:,:].T),'-'  ,c=colors[i])\n",
    "            ax1.scatter3D(*delta_x_traj[i,-1,:],s=40,c=colors[i])\n",
    "                          \n",
    "        # we plot the normalized perturbations on the unit sphere\n",
    "        tmp = perts[i,:]/sqrt(perts[i,:] @ perts[i, :])\n",
    "        p_vect = np.concatenate([np.reshape([0,0,0],[1,3]), np.reshape(tmp,[1,3])], axis=0)\n",
    "        \n",
    "        # delta * +1\n",
    "        ax2.plot(p_vect[:,0], p_vect[:,1], p_vect[:,2],'-'  ,c=colors[i])\n",
    "        ax2.scatter3D(*tmp[:],s=40,c=colors[i], marker='o')\n",
    "\n",
    "        # delta * -1\n",
    "        ax2.plot(-1*p_vect[:,0], -1*p_vect[:,1], -1*p_vect[:,2],'-'  ,c=colors[i])\n",
    "        ax2.scatter3D(*tmp[:]*(-1),s=40,c=colors[i], marker='o')\n",
    "\n",
    "    ax1.axis('off')\n",
    "    ax2.set_xlim((-.9, .9))\n",
    "    ax2.set_ylim((-.9, .9))\n",
    "    ax2.set_zlim((-.9, .9))\n",
    "    plt.show()\n",
    "    \n",
    "w = interactive(animate_bred_vectors,B=(0,175,25), eps=(0.01,1.61, .2), N=(1, 161, 20))\n",
    "w"
   ]
  },
  {
   "cell_type": "markdown",
   "metadata": {},
   "source": [
    "**Exc 4.16**: If the \"breeding\" of perturbations is meant to represent the unstable growth of initial perturbations, what can we learn from their growth rates?  In the following code, fill in the missing lines to define a function that will compute the log-growth rate of the perturbation <span style='font-size:1.25em'>$\\boldsymbol{\\delta^i}_k$</span>, i.e., the log growth relative to the length of time in the breeding interval.  This function should return\n",
    "<h3>\n",
    "$$\\begin{align}\n",
    "\\frac{1}{T}\\log \\left( \\frac{\\left\\rvert \\widehat{\\boldsymbol{\\delta}}^i_k\\right \\rvert}{\\left\\rvert \\boldsymbol{\\delta}_{k-1}^i \\right\\rvert}\\right) \\equiv \\frac{1}{T}\\log \\left( \\frac{\\left\\rvert \\widehat{\\boldsymbol{\\delta}}^i_k\\right \\rvert}{\\epsilon}\\right),\n",
    "\\end{align}$$\n",
    "</h3>\n",
    "for a single perturbation."
   ]
  },
  {
   "cell_type": "code",
   "execution_count": null,
   "metadata": {},
   "outputs": [],
   "source": [
    "def log_growth(x_control_k, x_pert_k, T, eps):\n",
    "    \"\"\"function returns array of the log growth values for a single perturbation\"\"\"\n",
    "    nrm = sqrt( (x_pert_k - x_control_k) @ (x_pert_k - x_control_k).T )\n",
    "\n",
    "    log_growth_rate = (1.0 / T) * log(nrm / eps)\n",
    "    \n",
    "    ### Fill in missing line(s) here ###\n",
    "\n",
    "    \n",
    "    return log_growth_rate"
   ]
  },
  {
   "cell_type": "code",
   "execution_count": null,
   "metadata": {},
   "outputs": [],
   "source": [
    "## Example solution\n",
    "\n",
    "# show_answer('log_growth')"
   ]
  },
  {
   "cell_type": "markdown",
   "metadata": {},
   "source": [
    "**Exc 4.18**: Test your answer to **Exc 4.16**.  Using the code and slider below, investigate the distributions of the log-growth rates of the bred vectors as a function of the number of breeding cycles.  Answer the following questions:\n",
    "<ol>\n",
    "    <li> What is the long term behaviour of this distribution?</li>\n",
    "    <li> The leading Lyapunov exponent of the Lorenz-63 system is $\\approx 0.9050$, what do you notice about the mean of the log-growth rates over a long number of breeding cycles?</li>\n",
    "    <li> Consider the behavior of small perturbations from <b>Exc 4.14</b>. Can you conjecture what the perturbations are converging to?</li>\n",
    "    <li> What does this suggest about the \"representative perturbations\" for the error growth in chaotic systems?</li>\n",
    "</ol>"
   ]
  },
  {
   "cell_type": "code",
   "execution_count": null,
   "metadata": {},
   "outputs": [],
   "source": [
    "def animate_bred_growth_rates(B=1000):    \n",
    "    \n",
    "    # Initial conditions: perturbations around some \"proto\" state\n",
    "    sigma=SIGMA \n",
    "    beta=BETA \n",
    "    rho=RHO\n",
    "    eps=0.01\n",
    "    N=1\n",
    "    T=0.01\n",
    "    \n",
    "    seed(1)\n",
    "    x_0 = array([-6.1, 1.2, 32.5])               # define the control\n",
    "    \n",
    "    # define the perturbation, randomly generated but of fixed norm epsilon\n",
    "    perts = randn(3)\n",
    "    perts = eps * perts / sqrt(perts @ perts)\n",
    "    delta_x = x_0 + perts\n",
    "                  \n",
    "    tt = linspace(0, T, 20)           # Time instances for trajectory\n",
    "    d2 = lambda x,t: dxdt(x,t, sigma,beta,rho)  # Define dxdt(x,t) with fixed params.    \n",
    "    grwt = np.zeros(B)\n",
    "    \n",
    "    \n",
    "    # for each breeding cycle\n",
    "    for kk in range(B):\n",
    "        # Compute trajectories\n",
    "        x_traj = array([odeint(d2, x_0, tt)])        # integrate the control trajectory\n",
    "        x_0 = np.squeeze(x_traj[:, -1, :])\n",
    "        \n",
    "        delta_x_traj = array([odeint(d2, delta_x, tt)]) # Integrate the perturbation\n",
    "        \n",
    "        # compute the log growth from the code defined earlier\n",
    "        grwt[kk] = log_growth(x_0, delta_x_traj[0, -1, :], T, eps)\n",
    "        \n",
    "        # redefine perts\n",
    "        perts = delta_x_traj[0, -1, :] - x_0\n",
    "        perts = eps * perts / sqrt(perts @ perts.T) \n",
    "        delta_x = x_0 + perts\n",
    "    \n",
    "    # PLOTTING\n",
    "    fig = plt.figure(figsize=(16,8))\n",
    "    ax = plt.subplot(111)\n",
    "    ax.hist(grwt, bins=linspace(-20,20,4001), density=True)\n",
    "    ax.set_xlim((-12, 12))\n",
    "    ax.set_ylim((0, 0.8))\n",
    "    ax.text(4, 0.6, 'Mean log-growth rate=' + str(np.round(mean(grwt),decimals=4)).zfill(4), size=20)\n",
    "    \n",
    "    plt.show()\n",
    "    \n",
    "w = interactive(animate_bred_growth_rates,B=(1000,30000, 5800))\n",
    "w"
   ]
  },
  {
   "cell_type": "markdown",
   "metadata": {},
   "source": [
    "### Next: [Lyapunov exponents and eigenvalues](T3 - Lyapunov exponents and eigenvalues.ipynb)"
   ]
  }
 ],
 "metadata": {
  "anaconda-cloud": {},
  "celltoolbar": "Raw Cell Format",
  "kernelspec": {
   "display_name": "Python 3",
   "language": "python",
   "name": "python3"
  },
  "language_info": {
   "codemirror_mode": {
    "name": "ipython",
    "version": 3
   },
   "file_extension": ".py",
   "mimetype": "text/x-python",
   "name": "python",
   "nbconvert_exporter": "python",
   "pygments_lexer": "ipython3",
   "version": "3.6.5"
  }
 },
 "nbformat": 4,
 "nbformat_minor": 1
}
