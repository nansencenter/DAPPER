{
 "cells": [
  {
   "cell_type": "code",
   "execution_count": null,
   "metadata": {
    "scrolled": true
   },
   "outputs": [],
   "source": [
    "from resources.workspace import *\n",
    "from IPython.display import display\n",
    "from scipy.integrate import odeint\n",
    "import copy\n",
    "\n",
    "%matplotlib inline"
   ]
  },
  {
   "cell_type": "markdown",
   "metadata": {},
   "source": [
    "# Instability, stability and chaos in dynamical systems\n",
    "\n",
    "Chaos is commonly understood by the <b>butterfly effect</b>; \"A buttefly that flaps its wings in Brazil can \"cause\" a hurricane in Texas\". As opposed to the opinions of Descartes/Newton/Laplace, chaos effectively means that even in a deterministic (non-stochastic) universe, we can only predict \"so far\" into the future.  We will introduce two very typical \"toy\" models that exhibit these features."
   ]
  },
  {
   "cell_type": "markdown",
   "metadata": {},
   "source": [
    "## Examples of models chaotic systems"
   ]
  },
  {
   "cell_type": "markdown",
   "metadata": {},
   "source": [
    "### The \"Lorenz-95\" model\n",
    "\n",
    "The [Lorenz 95/ 96 system](http://eaps4.mit.edu/research/Lorenz/Predicability_a_Problem_2006.pdf) is a one dimensional model, designed to simulate atmospheric convection.  Each variable <span style='font-size:1.25em'>$x^j$ </span> can be considered some atmospheric quantity in one of $m$ sectors along a single lattitude.  The differential equation for <span style='font-size:1.25em'>$x^j$ </span> reads,\n",
    "<h3>$$\n",
    "\\frac{{\\rm d} x^j}{{\\rm d} t} \\triangleq -x^{j-1} x^{j-2} + x^{j-1}x^{j+1} - x^j + F,\n",
    "$$</h3>\n",
    "where all indices $j$ are taken modulo $m$. \n",
    "\n",
    "There are **no accurate physics** represented in this model.  Rather, the model only seeks to capture qualitative features of the atmosphere, in that:\n",
    "<ul>\n",
    "    <li> there is external forcing, determined by a parameter $F$;</li>\n",
    "    <li> there is internal dissipation, simulated by linear terms;</li>\n",
    "    <li> there is advection, simulated by quadratic terms.</li>\n",
    "</ul>\n",
    "\n",
    "The number of sectors $m$ is assumed to be at least $m=4$ but typically it is taken that $m=40$. See the following link for\n",
    "[further description](resources/DA_intro.pdf#page=23)."
   ]
  },
  {
   "cell_type": "markdown",
   "metadata": {},
   "source": [
    "**Exc 4.2**: The system above has an easy to find fixed point, i.e., a point <span style='font-size:1.25em'>$\\mathbf{x}_0$</span> such that\n",
    "<h3>$$ \\frac{{\\rm d}}{{\\rm d} t} \\mathbf{x}_0 \\equiv 0$$ </h3>\n",
    "\n",
    "Can you identify one?"
   ]
  },
  {
   "cell_type": "code",
   "execution_count": null,
   "metadata": {},
   "outputs": [],
   "source": [
    "# Example solution\n",
    "\n",
    "# show_answer('fixed_point')"
   ]
  },
  {
   "cell_type": "markdown",
   "metadata": {},
   "source": [
    "A fixed point is **stable** if for any perturbations sufficiently small, a trajectory evolved from this perturbation must be attracted to the fixed point.  That means, all nearby solutions will settle to a solution that doesn't change in time.  A classification of various fixed point dynamics is illustrated in the figure below."
   ]
  },
  {
   "cell_type": "markdown",
   "metadata": {},
   "source": [
    "<div style='width:900px'>\n",
    "<img src=\"./resources/Stability_Diagram.png\">\n",
    "</div>\n",
    "\n",
    "**By Freesodas (Gimp) [<a href=\"http://www.gnu.org/copyleft/fdl.html\">GFDL</a> or <a href=\"https://creativecommons.org/licenses/by-sa/4.0\">CC BY-SA 4.0</a>], <a href=\"https://commons.wikimedia.org/wiki/File:Stability_Diagram.png\">via Wikimedia Commons</a>**"
   ]
  },
  {
   "cell_type": "markdown",
   "metadata": {},
   "source": [
    "In the Lorenz-95 model, different values for $F$ will produce different behaviors in the model.  For some values of $F$, the fixed point from **Exc 4.2** is stable.  For some values of $F$, perturbations won't be drawn to the fixed point, but will settle to another kind of **steady behavior**.  For some values of $F$, small perturbations will behave wildy, with growth and decay that is difficult to predict."
   ]
  },
  {
   "cell_type": "markdown",
   "metadata": {},
   "source": [
    "**Exc 4.4**: Run the code below to interactively plot the behavior of the Lorenz-95 sytem.  The figure on the left hand side below plots a time lapse of the values of <span style='font-size:1.25em'>$x^j$</span> on the $y$-axis, while the $x$-axis varies each sector $j$, modulo $m=10$.  The time variable is given by \"T\" below. \n",
    "\n",
    "The figure on the right hand side below plots the time series of the total engergy of the system, defined by\n",
    "<h3>$$\\begin{align}\n",
    "\\mathbf{E}(\\mathbf{x}) &= \\frac{1}{2} \\sum_{j=1}^m \\left(\\mathbf{x}^j\\right)^2.\n",
    "\\end{align}$$\n",
    "</h3>\n",
    "Note that for $T>30$, we only plot the time series in the interval $[T-30, T]$.\n",
    "\n",
    "For each value of $F$, we initialize the model with a small perturbation of size \"eps=0.5\" to the fixed point found in **Exc 4.2**.  Answer the following questions:\n",
    "<ol>\n",
    "   <li> For what values of $F$ does it look like the fixed point is stable?  How is this reflected in the energy in the system?</li>\n",
    "   <li> For what values of $F$ does it look like the system settles to periodic motion? How is this reflected in the energy in the system?</li>\n",
    "   <li> For what values of $F$ does the evolution become \"chaotic\"? How is this reflected in the energy in the system?\n",
    "   <li> The classical choice for $F$ is $F=8$.  What kind of behavior is exhibited?\n",
    "<ol>"
   ]
  },
  {
   "cell_type": "code",
   "execution_count": null,
   "metadata": {},
   "outputs": [],
   "source": [
    "# For all i, any n: s(x,n) := x[i+n], circularly.\n",
    "def s(x,n):\n",
    "    return np.roll(x,-n)\n",
    "\n",
    "def animate_lorenz_95(F=0.8,T=0):\n",
    "    # Initial conditions: perturbations\n",
    "    eps=.5\n",
    "    m=10\n",
    "    x0 = ones(m)\n",
    "    x0 = x0 * F\n",
    "    x0[0] += eps\n",
    "    \n",
    "    def dxdt(x,t):\n",
    "        return (s(x,1)-s(x,-2))*s(x,-1) - x + F\n",
    "    \n",
    "    tt = linspace(0, T, int(T/.1) + 1)\n",
    "    xx = odeint(lambda x,t: dxdt(x,t), x0, tt)\n",
    "    energy =  .5 * np.sum(xx*2, axis=1)\n",
    "    xx = np.concatenate([xx,\n",
    "                         np.reshape(xx[:,0], [len(xx[:,0]), 1])],axis=1)\n",
    "    \n",
    "\n",
    "    # Plot multiple\n",
    "    fig = plt.figure(figsize=(16,6))\n",
    "    ax1 = fig.add_axes([.08, .095,  .4, .89])\n",
    "    ax2 = fig.add_axes([.525, .095, .4, .89])\n",
    "\n",
    "    Lag = 4\n",
    "    colors = plt.cm.cubehelix(0.1+0.6*linspace(0,1,Lag))\n",
    "    for k in range(Lag,0,-1):\n",
    "        ax1.plot(xx[max(0,len(xx)-k)],c=colors[Lag-k])\n",
    "\n",
    "    ax1.set_ylim(-10,20)\n",
    "    ax1.set_xlabel(r'Sector $j$', size=30)\n",
    "    ax1.set_xticks(range(0,12,2))\n",
    "    ax1.set_ylabel(r'$x^j$', size=30)\n",
    "    ax1.tick_params(\n",
    "        labelsize=20)\n",
    "    ax2.plot(tt[-300:], energy[-300:])\n",
    "    ax2.set_xlabel('Time T',size=30)\n",
    "    ax2.yaxis.set_label_position(\"right\")\n",
    "    ax2.set_ylabel('Total Energy',size=30, rotation=270)\n",
    "    ax2.yaxis.set_label_coords(1.175,.5)\n",
    "    ax2.tick_params(\n",
    "        axis='x',\n",
    "        labelsize=20)\n",
    "    ax2.tick_params(\n",
    "        axis='y',\n",
    "        labelsize=20,\n",
    "        right=True,\n",
    "        labelright=True,\n",
    "        left=False,\n",
    "        labelleft=False\n",
    "    )\n",
    "    tics = [np.round(i,decimals=1) for i in linspace(np.min(energy[-300:]) - 1, np.max(energy[-300:]) + 1, 5)]\n",
    "    ax2.set_yticks(tics)\n",
    "    ax2.set_yticklabels([str(i).zfill(2) for i in tics])\n",
    "    \n",
    "    plt.show()\n",
    "    \n",
    "interact(animate_lorenz_95,T=(0.2,60.2,0.1),F=(0,12,.2));"
   ]
  },
  {
   "cell_type": "markdown",
   "metadata": {},
   "source": [
    "### The Lorenz (1963) system\n",
    "\n",
    "The <b>[Lorenz-63 system](https://journals.ametsoc.org/doi/abs/10.1175/1520-0469%281963%29020%3C0130%3ADNF%3E2.0.CO%3B2)</b>, commonly known as the \"butterfly attractor\", is a simplified mathematical model for atmospheric convection respresenting real physics.  The Lorenz equations are derived from the Oberbeck-Boussinesq approximation to the equations describing fluid circulation in a shallow layer of fluid, heated uniformly from below and cooled uniformly from above - this describes Rayleigh-Bénard convection."
   ]
  },
  {
   "cell_type": "markdown",
   "metadata": {},
   "source": [
    "The Lorenz-63 system is given by the 3 coupled ordinary differential equations (ODE):\n",
    "<h3>\n",
    "$$\\begin{aligned}\n",
    "\\dot{x} & = \\sigma(y-x) \\\\\n",
    "\\dot{y} & = \\rho x - y - xz \\\\\n",
    "\\dot{z} & = -\\beta z + xy\n",
    "\\end{aligned}$$\n",
    "</h3>\n",
    "where \n",
    "<h3>$$\\dot{\\ast} \\triangleq \\frac{{\\rm d} }{{\\rm d} t}$$</h3>"
   ]
  },
  {
   "cell_type": "markdown",
   "metadata": {},
   "source": [
    "As a test case for DA, the state vector is <span style='font-size:1.25em'>$\\mathbf{x} = (x,y,z)$</span>, and the parameters are typically set to"
   ]
  },
  {
   "cell_type": "code",
   "execution_count": null,
   "metadata": {},
   "outputs": [],
   "source": [
    "SIGMA = 10.0\n",
    "BETA  = 8/3\n",
    "RHO   = 28.0"
   ]
  },
  {
   "cell_type": "markdown",
   "metadata": {},
   "source": [
    "The equations relate the properties of a two-dimensional fluid layer uniformly warmed from below and cooled from above. In particular, the equations describe the rate of change of three quantities with respect to time: x is proportional to the rate of convection, y to the horizontal temperature variation, and z to the vertical temperature variation.  \n",
    "\n",
    "The dynamics can be written as follows"
   ]
  },
  {
   "cell_type": "code",
   "execution_count": null,
   "metadata": {},
   "outputs": [],
   "source": [
    "def dxdt(xyz, t0, sigma=SIGMA, beta=BETA, rho=RHO):\n",
    "    \"\"\"Compute the time-derivative of the Lorenz-63 system.\"\"\"\n",
    "    x, y, z = xyz\n",
    "    return array([\n",
    "        sigma * (y - x),\n",
    "        x * (rho - z) - y,\n",
    "        x * y - beta * z\n",
    "    ])"
   ]
  },
  {
   "cell_type": "markdown",
   "metadata": {},
   "source": [
    "#### Numerical computation of trajectories"
   ]
  },
  {
   "cell_type": "markdown",
   "metadata": {},
   "source": [
    "Below is code to numerically integrate the differential equations and plot the solutions. This function has arguments that control the parameters of the differential equation <span style='font-size:1.25em'>$(\\sigma,\\beta,\\rho)$</span>.  In the following we will study how small perturbations of a \"control\" trajectory change over time.\n",
    "\n",
    "Additional parameters in the code inlcude:\n",
    "<ul>\n",
    "    <li> \"N\", defining the number of perturbations;</li>\n",
    "    <li> \"eps\", defining the size of perturbations;</li>\n",
    "    <li> \"T\", defining the length of the forward evolution.  **Note**: we will only plot the trajectory along times $[T-10, T]$ for $T>10$</li>\n",
    "</ul>"
   ]
  },
  {
   "cell_type": "markdown",
   "metadata": {},
   "source": [
    "**Exc 4.6**: Use the code below to investigate sensititivy to initial conditions.  Answer the following questions:\n",
    "<ol>\n",
    "    <li> For small pertubations, eps=0.01, how long does it take to see the nearby initial conditions lose track of the control trajectory?\n",
    "    <li> Does it appear that there are parameter configurations where there are **stable** fixed points? </li>\n",
    "    <li> Does it appear that there are parameter configurations where there are **stable** periodic behaviors?  **Hint**: what pattern emerges with $\\rho = 350$?  What about $\\rho=100.5$?</li>\n",
    "    <li>When all trajectories are drawn to a limiting behavior, we call this behavior **globally stable**.  Do the periodic solutions appear to be globally or locally stable?  Try multiple values of epsilon, and consider what happens when there is more than one periodic behavior.</li>\n",
    "</ol>"
   ]
  },
  {
   "cell_type": "code",
   "execution_count": null,
   "metadata": {},
   "outputs": [],
   "source": [
    "def animate_lorenz(sigma=SIGMA, beta=BETA, rho=RHO, N=2, eps=0.01, T=0.1):    \n",
    "    \n",
    "    # Initial conditions: perturbations around some \"proto\" state\n",
    "    seed(1)\n",
    "    x0_proto = array([-6.1, 1.2, 32.5])\n",
    "    x0 = x0_proto + eps*randn((N, 3))\n",
    "\n",
    "    # Compute trajectories\n",
    "    tt = linspace(0, T, int(T/.01)+1)               # Time instances for trajectory\n",
    "    d2 = lambda x,t: dxdt(x,t, sigma,beta,rho)      # Define dxdt(x,t) with fixed params.\n",
    "    xx = array([odeint(d2, x0i, tt) for x0i in x0]) # Integrate\n",
    "    \n",
    "    \n",
    "    # PLOTTING\n",
    "    ax = plt.figure(figsize=(16,8)).add_subplot(111, projection='3d')\n",
    "    \n",
    "    colors = plt.cm.jet(linspace(0,1,N))\n",
    "    for i in range(N):\n",
    "        # plot each ensemble member, but only the last 1000 steps of the trajectory\n",
    "        ax.plot(*(xx[i,-1000:,:].T),'-'  ,c=colors[i])\n",
    "        ax.scatter3D(*xx[i,-1,:],s=40,c=colors[i])\n",
    "\n",
    "    ax.axis('off')\n",
    "    plt.show()\n",
    "\n",
    "    \n",
    "w = interactive(animate_lorenz, sigma=(0.,50), rho=(0.,350, .5), beta=(0.,5),\n",
    "                N=(1,10), eps=(0.01,10.01, .1),T=(0.1,100))\n",
    "\n",
    "w"
   ]
  },
  {
   "cell_type": "markdown",
   "metadata": {},
   "source": [
    "In the standard configuration of the Lorenz-63 model we see that small perturbations quickly diverge from control trajectories.  But even with perfect knowledge of the state of the atmosphere, our numerical approximations of its evolution would quickly degrade the forecast skill to zero.  As a proof of concept, suppose the \"<b>true</b>\" atmosphere is equal to the Lorenz-63 system, evolved via the simple <a href=\"https://en.wikipedia.org/wiki/Euler_method\" target=\"blank\"><b>forward Euler method</b></a>, with a time step of "
   ]
  },
  {
   "cell_type": "code",
   "execution_count": null,
   "metadata": {},
   "outputs": [],
   "source": [
    "h_true = 0.0001"
   ]
  },
  {
   "cell_type": "markdown",
   "metadata": {},
   "source": [
    "Suppose we are given the <b>exact</b> state of the atmosphere, defined as"
   ]
  },
  {
   "cell_type": "code",
   "execution_count": null,
   "metadata": {},
   "outputs": [],
   "source": [
    "xyz_exact = array([-6.1, 1.2, 32.5])"
   ]
  },
  {
   "cell_type": "markdown",
   "metadata": {},
   "source": [
    "But we must use the <a href=\"https://en.wikipedia.org/wiki/Runge%E2%80%93Kutta_methods#The_Runge%E2%80%93Kutta_method\" target=\"blank\"><b>Order 4.0 Runge-Kutta</b></a> scheme,"
   ]
  },
  {
   "cell_type": "code",
   "execution_count": null,
   "metadata": {},
   "outputs": [],
   "source": [
    "def l63_rk4_step(xyz, h):\n",
    "    \"\"\" calculate the evolution of Lorenz-63 one step forward via RK-4\"\"\"\n",
    "    \n",
    "    k_xyz_1 = dxdt(xyz, h, sigma=SIGMA, beta=BETA, rho=RHO)\n",
    "    k_xyz_2 = dxdt(xyz + k_xyz_1 * (h / 2.0), h, sigma=SIGMA, beta=BETA, rho=RHO)\n",
    "    k_xyz_3 = dxdt(xyz + k_xyz_2 * (h / 2.0), h, sigma=SIGMA, beta=BETA, rho=RHO)\n",
    "    k_xyz_4 = dxdt(xyz + k_xyz_3 * h, h, sigma=SIGMA, beta=BETA, rho=RHO)\n",
    "\n",
    "    xyz_step = xyz + (h / 6.0) * (k_xyz_1 + 2 * k_xyz_2 + 2 * k_xyz_3 + k_xyz_4)\n",
    "\n",
    "    return xyz_step"
   ]
  },
  {
   "cell_type": "markdown",
   "metadata": {},
   "source": [
    "with a time step of"
   ]
  },
  {
   "cell_type": "code",
   "execution_count": null,
   "metadata": {},
   "outputs": [],
   "source": [
    "h_approximate = 0.1"
   ]
  },
  {
   "cell_type": "markdown",
   "metadata": {},
   "source": [
    "to derive an <b>approximate forecast</b>, due to computational constraints.  Note that the discretization error of <b>both</b> the forward Euler (with time step h_true=0.0001) and the Order 4.0 Runge-Kutta (with time step h_approximate=0.1) is on the order $\\mathcal{O}\\left(10^{-4}\\right)$."
   ]
  },
  {
   "cell_type": "markdown",
   "metadata": {},
   "source": [
    "**Exc 4.8**: Use the function \"<b>dxdt</b>\" defined above to code the forward Euler method.  Fill in the missing line in the code below. "
   ]
  },
  {
   "cell_type": "code",
   "execution_count": null,
   "metadata": {},
   "outputs": [],
   "source": [
    "def l63_forward_euler_step(xyz, h):\n",
    "    \"\"\"x_step is the one-step-forward state, derived from the initial condition xyz\"\"\"\n",
    "    \n",
    "    ### Fill in missing line here ###\n",
    "    \n",
    "    return xyz_step"
   ]
  },
  {
   "cell_type": "code",
   "execution_count": null,
   "metadata": {},
   "outputs": [],
   "source": [
    "## Example solution\n",
    "\n",
    "# show_answer('forward_euler')"
   ]
  },
  {
   "cell_type": "markdown",
   "metadata": {},
   "source": [
    "**Exc 4.10**: Verify that your solution to Exc 4.6 works, using the GUI slider below.  The following code will generate the two paths from the **same** initial condition:\n",
    "<ol>\n",
    "    <li>the \"true\" atmosphere, generated by the forward Euler scheme and time step of 0.0001;</li>\n",
    "    <li>the approximate atmospher, generated by the Runge-Kutta scheme with a time step of 0.1;</li>\n",
    "</ol>\n",
    "where the discretization error of each scheme is on the order of $\\mathcal{O}\\left(10^{-4}\\right)$.\n"
   ]
  },
  {
   "cell_type": "code",
   "execution_count": null,
   "metadata": {},
   "outputs": [],
   "source": [
    "def animate_approximation_divergence(T=0.1):    \n",
    "    \n",
    "    ## Compute trajectories\n",
    "    xyz_approx_step = copy.copy(xyz_exact)\n",
    "    xyz_true_step = copy.copy(xyz_exact)\n",
    "    \n",
    "    # define the number of integration steps\n",
    "    true_steps = int(T / h_true)\n",
    "    approx_steps = int(T / h_approximate)\n",
    "    \n",
    "    # define storage for the approximate trajectory\n",
    "    xyz_approx = zeros([approx_steps + 1, 3])\n",
    "    \n",
    "    # define storage for the true trajectory, but where we only store the same time steps as the approximate one\n",
    "    xyz_true = zeros([approx_steps + 1, 3])\n",
    "    \n",
    "    for i in range(approx_steps + 1):\n",
    "        # store the value for each the true and approximate trajectory\n",
    "        xyz_true[i, :] = xyz_true_step\n",
    "        xyz_approx[i, :] = xyz_approx_step\n",
    "            \n",
    "        # forward propagate the approximate trajectory only at increments of 0.1\n",
    "        xyz_approx_step = l63_rk4_step(xyz_approx_step, h_approximate)\n",
    "        \n",
    "        for j in range(1000):\n",
    "            # forward propagate the true trajectory at every step of 0.0001\n",
    "            xyz_true_step = l63_forward_euler_step(xyz_true_step, h_true)\n",
    "        \n",
    "            \n",
    "            \n",
    "    # PLOTTING\n",
    "    ax = plt.figure(figsize=(10,5)).add_subplot(111, projection='3d')\n",
    "    xx = np.dstack([xyz_true, xyz_approx])\n",
    "    \n",
    "    colors = plt.cm.jet(linspace(0,1,2))\n",
    "    for i in range(2):\n",
    "        # plot each of the trajectories, integrated with separate rules\n",
    "        ax.plot(*(xx[-4:,:,i].T),'-'  ,c=colors[i])\n",
    "        ax.scatter3D(*xx[-1,:,i], s=40, c=colors[i])\n",
    "\n",
    "    ax.set_xlim((-15, 15))\n",
    "    ax.set_ylim((-25, 25))\n",
    "    ax.set_zlim((15, 40))\n",
    "    ax.view_init(30, 120)\n",
    "    ax.axis('off')\n",
    "    plt.show()\n",
    "    \n",
    "\n",
    "w = interactive(animate_approximation_divergence, T=(0.4,4))\n",
    "w"
   ]
  },
  {
   "cell_type": "markdown",
   "metadata": {},
   "source": [
    "**Exc 4.12**: What do you notice about this plot?  What does this say about small simulation errors in chaotic systems?"
   ]
  },
  {
   "cell_type": "markdown",
   "metadata": {},
   "source": [
    "### Next: [Dynamics of ensembles and perturbations](T2 - Dynamics of ensembles and perturbations.ipynb)"
   ]
  }
 ],
 "metadata": {
  "anaconda-cloud": {},
  "celltoolbar": "Raw Cell Format",
  "kernelspec": {
   "display_name": "Python 3",
   "language": "python",
   "name": "python3"
  },
  "language_info": {
   "codemirror_mode": {
    "name": "ipython",
    "version": 3
   },
   "file_extension": ".py",
   "mimetype": "text/x-python",
   "name": "python",
   "nbconvert_exporter": "python",
   "pygments_lexer": "ipython3",
   "version": "3.6.5"
  }
 },
 "nbformat": 4,
 "nbformat_minor": 1
}
